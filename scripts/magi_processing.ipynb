{
 "cells": [
  {
   "cell_type": "code",
   "execution_count": 1,
   "id": "f2748375",
   "metadata": {},
   "outputs": [],
   "source": [
    "import sys\n",
    "sys.path.append('..')\n",
    "import pandas as pd\n",
    "from conformer.tokenizer import Tokenizer"
   ]
  },
  {
   "cell_type": "code",
   "execution_count": 2,
   "id": "45f8dd92",
   "metadata": {},
   "outputs": [],
   "source": [
    "tokenizer = Tokenizer.load('/home/penguin/data/tokenizer/tokenizer.json')"
   ]
  },
  {
   "cell_type": "code",
   "execution_count": 3,
   "id": "36866a9a",
   "metadata": {},
   "outputs": [],
   "source": [
    "df = pd.read_csv('/home/penguin/data/ka/validated_processed.tsv', sep='\\t')"
   ]
  },
  {
   "cell_type": "code",
   "execution_count": 19,
   "id": "2e032db6",
   "metadata": {},
   "outputs": [],
   "source": [
    "df['tokens'] = df['label'].apply(lambda x: len(tokenizer.encode(x)))"
   ]
  },
  {
   "cell_type": "code",
   "execution_count": null,
   "id": "274125cd",
   "metadata": {},
   "outputs": [
    {
     "data": {
      "text/plain": [
       "(np.int64(235008), np.int64(164))"
      ]
     },
     "execution_count": 20,
     "metadata": {},
     "output_type": "execute_result"
    }
   ],
   "source": [
    "df['frames'].max(), df['tokens'].max()"
   ]
  },
  {
   "cell_type": "markdown",
   "id": "52977a35",
   "metadata": {},
   "source": [
    "### Splitting data into train and test"
   ]
  },
  {
   "cell_type": "code",
   "execution_count": 4,
   "id": "242d0a86",
   "metadata": {},
   "outputs": [],
   "source": [
    "train = df.sample(frac=0.95, random_state=42)\n",
    "test = df.drop(train.index)"
   ]
  },
  {
   "cell_type": "code",
   "execution_count": 5,
   "id": "4e963c20",
   "metadata": {},
   "outputs": [
    {
     "data": {
      "text/plain": [
       "((110755, 3), (5829, 3))"
      ]
     },
     "execution_count": 5,
     "metadata": {},
     "output_type": "execute_result"
    }
   ],
   "source": [
    "train.shape, test.shape"
   ]
  },
  {
   "cell_type": "code",
   "execution_count": 13,
   "id": "7d6a6e18",
   "metadata": {},
   "outputs": [],
   "source": [
    "train.to_csv('/home/penguin/data/ka/train_processed.tsv', sep='\\t', index=False)"
   ]
  },
  {
   "cell_type": "code",
   "execution_count": 14,
   "id": "46acdb86",
   "metadata": {},
   "outputs": [],
   "source": [
    "test.to_csv('/home/penguin/data/ka/test_processed.tsv', sep='\\t', index=False)"
   ]
  },
  {
   "cell_type": "code",
   "execution_count": 12,
   "id": "dae7dcd3",
   "metadata": {},
   "outputs": [
    {
     "data": {
      "text/html": [
       "<div>\n",
       "<style scoped>\n",
       "    .dataframe tbody tr th:only-of-type {\n",
       "        vertical-align: middle;\n",
       "    }\n",
       "\n",
       "    .dataframe tbody tr th {\n",
       "        vertical-align: top;\n",
       "    }\n",
       "\n",
       "    .dataframe thead th {\n",
       "        text-align: right;\n",
       "    }\n",
       "</style>\n",
       "<table border=\"1\" class=\"dataframe\">\n",
       "  <thead>\n",
       "    <tr style=\"text-align: right;\">\n",
       "      <th></th>\n",
       "      <th>path</th>\n",
       "      <th>label</th>\n",
       "      <th>frames</th>\n",
       "    </tr>\n",
       "  </thead>\n",
       "  <tbody>\n",
       "    <tr>\n",
       "      <th>55</th>\n",
       "      <td>/home/penguin/data/ka/clips_16k/common_voice_k...</td>\n",
       "      <td>არა</td>\n",
       "      <td>30528</td>\n",
       "    </tr>\n",
       "    <tr>\n",
       "      <th>60</th>\n",
       "      <td>/home/penguin/data/ka/clips_16k/common_voice_k...</td>\n",
       "      <td>არა</td>\n",
       "      <td>29952</td>\n",
       "    </tr>\n",
       "    <tr>\n",
       "      <th>77</th>\n",
       "      <td>/home/penguin/data/ka/clips_16k/common_voice_k...</td>\n",
       "      <td>დიახ</td>\n",
       "      <td>36288</td>\n",
       "    </tr>\n",
       "    <tr>\n",
       "      <th>112</th>\n",
       "      <td>/home/penguin/data/ka/clips_16k/common_voice_k...</td>\n",
       "      <td>ხუთი</td>\n",
       "      <td>43776</td>\n",
       "    </tr>\n",
       "    <tr>\n",
       "      <th>117</th>\n",
       "      <td>/home/penguin/data/ka/clips_16k/common_voice_k...</td>\n",
       "      <td>უფრო ადრე ცნობილი იყო როგორც შოუმენი კომიკოსი ...</td>\n",
       "      <td>99648</td>\n",
       "    </tr>\n",
       "    <tr>\n",
       "      <th>...</th>\n",
       "      <td>...</td>\n",
       "      <td>...</td>\n",
       "      <td>...</td>\n",
       "    </tr>\n",
       "    <tr>\n",
       "      <th>116515</th>\n",
       "      <td>/home/penguin/data/ka/clips_16k/common_voice_k...</td>\n",
       "      <td>ნიკარაგუის პრეზიდენტი ლიბერალური პარტიიდან</td>\n",
       "      <td>60480</td>\n",
       "    </tr>\n",
       "    <tr>\n",
       "      <th>116526</th>\n",
       "      <td>/home/penguin/data/ka/clips_16k/common_voice_k...</td>\n",
       "      <td>ალფონსომ გაქცევა მოახერხა და თავი ტოლედოს ემის...</td>\n",
       "      <td>74880</td>\n",
       "    </tr>\n",
       "    <tr>\n",
       "      <th>116558</th>\n",
       "      <td>/home/penguin/data/ka/clips_16k/common_voice_k...</td>\n",
       "      <td>იგი დაკრძალეს მედიჩების მავზოლეუმში ფლორენციაში</td>\n",
       "      <td>67968</td>\n",
       "    </tr>\n",
       "    <tr>\n",
       "      <th>116559</th>\n",
       "      <td>/home/penguin/data/ka/clips_16k/common_voice_k...</td>\n",
       "      <td>ის წელს ჩატარდა და მისი ტრადიციული სპონსორია კ...</td>\n",
       "      <td>92160</td>\n",
       "    </tr>\n",
       "    <tr>\n",
       "      <th>116563</th>\n",
       "      <td>/home/penguin/data/ka/clips_16k/common_voice_k...</td>\n",
       "      <td>ჯეირახის რაიონი მდებარეობს ინგუშეთის მთიან ნაწ...</td>\n",
       "      <td>115776</td>\n",
       "    </tr>\n",
       "  </tbody>\n",
       "</table>\n",
       "<p>5829 rows × 3 columns</p>\n",
       "</div>"
      ],
      "text/plain": [
       "                                                     path  \\\n",
       "55      /home/penguin/data/ka/clips_16k/common_voice_k...   \n",
       "60      /home/penguin/data/ka/clips_16k/common_voice_k...   \n",
       "77      /home/penguin/data/ka/clips_16k/common_voice_k...   \n",
       "112     /home/penguin/data/ka/clips_16k/common_voice_k...   \n",
       "117     /home/penguin/data/ka/clips_16k/common_voice_k...   \n",
       "...                                                   ...   \n",
       "116515  /home/penguin/data/ka/clips_16k/common_voice_k...   \n",
       "116526  /home/penguin/data/ka/clips_16k/common_voice_k...   \n",
       "116558  /home/penguin/data/ka/clips_16k/common_voice_k...   \n",
       "116559  /home/penguin/data/ka/clips_16k/common_voice_k...   \n",
       "116563  /home/penguin/data/ka/clips_16k/common_voice_k...   \n",
       "\n",
       "                                                    label  frames  \n",
       "55                                                    არა   30528  \n",
       "60                                                    არა   29952  \n",
       "77                                                   დიახ   36288  \n",
       "112                                                  ხუთი   43776  \n",
       "117     უფრო ადრე ცნობილი იყო როგორც შოუმენი კომიკოსი ...   99648  \n",
       "...                                                   ...     ...  \n",
       "116515         ნიკარაგუის პრეზიდენტი ლიბერალური პარტიიდან   60480  \n",
       "116526  ალფონსომ გაქცევა მოახერხა და თავი ტოლედოს ემის...   74880  \n",
       "116558    იგი დაკრძალეს მედიჩების მავზოლეუმში ფლორენციაში   67968  \n",
       "116559  ის წელს ჩატარდა და მისი ტრადიციული სპონსორია კ...   92160  \n",
       "116563  ჯეირახის რაიონი მდებარეობს ინგუშეთის მთიან ნაწ...  115776  \n",
       "\n",
       "[5829 rows x 3 columns]"
      ]
     },
     "execution_count": 12,
     "metadata": {},
     "output_type": "execute_result"
    }
   ],
   "source": [
    "test"
   ]
  },
  {
   "cell_type": "code",
   "execution_count": null,
   "id": "95d19b70",
   "metadata": {},
   "outputs": [],
   "source": []
  }
 ],
 "metadata": {
  "kernelspec": {
   "display_name": "default",
   "language": "python",
   "name": "python3"
  },
  "language_info": {
   "codemirror_mode": {
    "name": "ipython",
    "version": 3
   },
   "file_extension": ".py",
   "mimetype": "text/x-python",
   "name": "python",
   "nbconvert_exporter": "python",
   "pygments_lexer": "ipython3",
   "version": "3.12.11"
  }
 },
 "nbformat": 4,
 "nbformat_minor": 5
}
