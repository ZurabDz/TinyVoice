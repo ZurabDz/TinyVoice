{
 "cells": [
  {
   "cell_type": "code",
   "execution_count": null,
   "id": "d1764331",
   "metadata": {},
   "outputs": [],
   "source": [
    "import os\n",
    "from pathlib import Path\n",
    "import concurrent.futures\n",
    "from functools import partial\n",
    "from tqdm import tqdm\n",
    "import librosa\n",
    "import soundfile as sf\n",
    "from glob import glob"
   ]
  },
  {
   "cell_type": "code",
   "execution_count": null,
   "id": "007f4c9a",
   "metadata": {},
   "outputs": [],
   "source": [
    "audio_pathes = glob('/home/penguin/Data/cv-corpus-22.0-2025-06-20-ka/cv-corpus-22.0-2025-06-20/ka/clips/*.mp3')\n",
    "new_root_path = '/home/penguin/Data/cv-corpus-22.0-2025-06-20-ka/cv-corpus-22.0-2025-06-20/ka/clips_16k/'"
   ]
  },
  {
   "cell_type": "code",
   "execution_count": null,
   "id": "fa51cc5c",
   "metadata": {},
   "outputs": [],
   "source": [
    "def _resample_write(src_path: str, dst_dir: str) -> tuple[str, None | Exception]:\n",
    "    try:\n",
    "        sig, sr = librosa.load(src_path, sr=16000)\n",
    "        dst = Path(dst_dir) / Path(src_path).name.replace('.mp3', '.flac')\n",
    "        sf.write(str(dst), sig, 16000, format='FLAC')\n",
    "        return (src_path, None)\n",
    "    except Exception as e:\n",
    "        return (src_path, e)"
   ]
  },
  {
   "cell_type": "code",
   "execution_count": null,
   "id": "da3d20ba",
   "metadata": {},
   "outputs": [],
   "source": [
    "# choose number of workers (tweak as needed)\n",
    "max_workers = min(8, os.cpu_count() or 1)"
   ]
  },
  {
   "cell_type": "code",
   "execution_count": null,
   "id": "76ce9163",
   "metadata": {},
   "outputs": [],
   "source": [
    "max_files = len(audio_pathes)\n",
    "selected = audio_pathes[:max_files]"
   ]
  },
  {
   "cell_type": "code",
   "execution_count": null,
   "id": "1cd6c7ff",
   "metadata": {},
   "outputs": [],
   "source": [
    "errors = []\n",
    "with concurrent.futures.ProcessPoolExecutor(max_workers=max_workers) as ex:\n",
    "    futures = {ex.submit(_resample_write, p, new_root_path): p for p in selected}\n",
    "    for fut in tqdm(concurrent.futures.as_completed(futures), total=len(futures)):\n",
    "        src, err = fut.result()\n",
    "        if err is not None:\n",
    "            errors.append((src, err))\n",
    "\n",
    "if errors:\n",
    "    print(f\"Completed with {len(errors)} errors. Example: {errors[:3]}\")\n",
    "else:\n",
    "    print(f\"Successfully processed {len(selected)} files.\")"
   ]
  }
 ],
 "metadata": {
  "kernelspec": {
   "display_name": "microlm",
   "language": "python",
   "name": "python3"
  },
  "language_info": {
   "codemirror_mode": {
    "name": "ipython",
    "version": 3
   },
   "file_extension": ".py",
   "mimetype": "text/x-python",
   "name": "python",
   "nbconvert_exporter": "python",
   "pygments_lexer": "ipython3",
   "version": "3.12.8"
  }
 },
 "nbformat": 4,
 "nbformat_minor": 5
}
