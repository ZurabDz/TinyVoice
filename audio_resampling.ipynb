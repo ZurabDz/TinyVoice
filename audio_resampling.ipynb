{
 "cells": [
  {
   "cell_type": "code",
   "execution_count": 1,
   "id": "d1764331",
   "metadata": {},
   "outputs": [],
   "source": [
    "import os\n",
    "from pathlib import Path\n",
    "import concurrent.futures\n",
    "from functools import partial\n",
    "from tqdm import tqdm\n",
    "import librosa\n",
    "import soundfile as sf\n",
    "from glob import glob"
   ]
  },
  {
   "cell_type": "code",
   "execution_count": null,
   "id": "007f4c9a",
   "metadata": {},
   "outputs": [],
   "source": [
    "audio_pathes = glob('/home/penguin/Data/cv-corpus-22.0-2025-06-20-ka/cv-corpus-22.0-2025-06-20/ka/clips/*.mp3')\n",
    "new_root_path = '/home/penguin/Data/cv-corpus-22.0-2025-06-20-ka/cv-corpus-22.0-2025-06-20/ka/clips_16k/'"
   ]
  },
  {
   "cell_type": "code",
   "execution_count": null,
   "id": "fa51cc5c",
   "metadata": {},
   "outputs": [],
   "source": [
    "def _resample_write(src_path: str, dst_dir: str) -> tuple[str, None | Exception]:\n",
    "    try:\n",
    "        sig, sr = librosa.load(src_path, sr=16000)\n",
    "        dst = Path(dst_dir) / Path(src_path).name.replace('.mp3', '.flac')\n",
    "        sf.write(str(dst), sig, 16000, format='FLAC')\n",
    "        return (src_path, None)\n",
    "    except Exception as e:\n",
    "        return (src_path, e)"
   ]
  },
  {
   "cell_type": "code",
   "execution_count": null,
   "id": "da3d20ba",
   "metadata": {},
   "outputs": [],
   "source": [
    "# choose number of workers (tweak as needed)\n",
    "max_workers = min(8, os.cpu_count() or 1)"
   ]
  },
  {
   "cell_type": "code",
   "execution_count": null,
   "id": "76ce9163",
   "metadata": {},
   "outputs": [],
   "source": [
    "max_files = len(audio_pathes)\n",
    "selected = audio_pathes[:max_files]"
   ]
  },
  {
   "cell_type": "code",
   "execution_count": null,
   "id": "1cd6c7ff",
   "metadata": {},
   "outputs": [],
   "source": [
    "errors = []\n",
    "with concurrent.futures.ProcessPoolExecutor(max_workers=max_workers) as ex:\n",
    "    futures = {ex.submit(_resample_write, p, new_root_path): p for p in selected}\n",
    "    for fut in tqdm(concurrent.futures.as_completed(futures), total=len(futures)):\n",
    "        src, err = fut.result()\n",
    "        if err is not None:\n",
    "            errors.append((src, err))\n",
    "\n",
    "if errors:\n",
    "    print(f\"Completed with {len(errors)} errors. Example: {errors[:3]}\")\n",
    "else:\n",
    "    print(f\"Successfully processed {len(selected)} files.\")"
   ]
  },
  {
   "cell_type": "markdown",
   "id": "1773cfb8",
   "metadata": {},
   "source": [
    "## Generat more audio times and text tokens for padding and static shapes"
   ]
  },
  {
   "cell_type": "code",
   "execution_count": 97,
   "id": "f34e8ab9",
   "metadata": {},
   "outputs": [],
   "source": [
    "import pandas as pd\n",
    "import string"
   ]
  },
  {
   "cell_type": "code",
   "execution_count": 98,
   "id": "3b4a4c45",
   "metadata": {},
   "outputs": [],
   "source": [
    "root_path = '/home/penguin/Data/cv-corpus-22.0-2025-06-20-ka/cv-corpus-22.0-2025-06-20/ka'\n",
    "remove_punct_map = dict.fromkeys(map(ord, string.punctuation))"
   ]
  },
  {
   "cell_type": "code",
   "execution_count": 99,
   "id": "419afed5",
   "metadata": {},
   "outputs": [],
   "source": [
    "original_df = pd.read_csv(Path(root_path) / 'train.tsv', delimiter='\\t', usecols=['path', 'sentence'])"
   ]
  },
  {
   "cell_type": "code",
   "execution_count": 100,
   "id": "c4e43216",
   "metadata": {},
   "outputs": [],
   "source": [
    "original_df['path'] = original_df['path'].str.replace('mp3', 'flac')\n",
    "original_df['sentence'] = original_df['sentence'].str.translate(remove_punct_map).str.strip()"
   ]
  },
  {
   "cell_type": "code",
   "execution_count": 101,
   "id": "44c79aec",
   "metadata": {},
   "outputs": [],
   "source": [
    "original_df['path'] = original_df['path'].apply(lambda x: Path(root_path) / 'clips_16k' / x)"
   ]
  },
  {
   "cell_type": "code",
   "execution_count": 102,
   "id": "48183d50",
   "metadata": {},
   "outputs": [],
   "source": [
    "def get_duration(path):\n",
    "    sig, sr = librosa.load(Path(root_path) / 'clips_16k' / path, sr=None)\n",
    "    return sig.shape[0] / sr"
   ]
  },
  {
   "cell_type": "code",
   "execution_count": 103,
   "id": "79aadd47",
   "metadata": {},
   "outputs": [],
   "source": [
    "original_df['duration'] = original_df['path'].apply(get_duration)"
   ]
  },
  {
   "cell_type": "code",
   "execution_count": 104,
   "id": "89f3d186",
   "metadata": {},
   "outputs": [
    {
     "name": "stdout",
     "output_type": "stream",
     "text": [
      "Vocabulary size: 41\n"
     ]
    }
   ],
   "source": [
    "from conformer.tokenizer import build_tokenizer\n",
    "tokenizer = build_tokenizer(original_df['sentence'].values)"
   ]
  },
  {
   "cell_type": "code",
   "execution_count": 105,
   "id": "95fc7959",
   "metadata": {},
   "outputs": [],
   "source": [
    "original_df['label_token_count'] = original_df['sentence'].apply(lambda x: len(tokenizer.encode(x)))"
   ]
  },
  {
   "cell_type": "code",
   "execution_count": 106,
   "id": "b409a071",
   "metadata": {},
   "outputs": [],
   "source": [
    "original_df.to_csv(Path(root_path) / 'train_mod.tsv', sep='\\t', index=False)"
   ]
  },
  {
   "cell_type": "code",
   "execution_count": 113,
   "id": "5ea56081",
   "metadata": {},
   "outputs": [
    {
     "data": {
      "text/html": [
       "<div>\n",
       "<style scoped>\n",
       "    .dataframe tbody tr th:only-of-type {\n",
       "        vertical-align: middle;\n",
       "    }\n",
       "\n",
       "    .dataframe tbody tr th {\n",
       "        vertical-align: top;\n",
       "    }\n",
       "\n",
       "    .dataframe thead th {\n",
       "        text-align: right;\n",
       "    }\n",
       "</style>\n",
       "<table border=\"1\" class=\"dataframe\">\n",
       "  <thead>\n",
       "    <tr style=\"text-align: right;\">\n",
       "      <th></th>\n",
       "      <th>path</th>\n",
       "      <th>sentence</th>\n",
       "      <th>duration</th>\n",
       "      <th>label_token_count</th>\n",
       "    </tr>\n",
       "  </thead>\n",
       "  <tbody>\n",
       "    <tr>\n",
       "      <th>0</th>\n",
       "      <td>/home/penguin/Data/cv-corpus-22.0-2025-06-20-k...</td>\n",
       "      <td>ქედის ფარგლებში არის დაცული ტერიტორიები</td>\n",
       "      <td>4.428</td>\n",
       "      <td>39</td>\n",
       "    </tr>\n",
       "    <tr>\n",
       "      <th>1</th>\n",
       "      <td>/home/penguin/Data/cv-corpus-22.0-2025-06-20-k...</td>\n",
       "      <td>ტერიტორიის ნაწილს აკონტროლებს ჰარაკატ აშშაბააბ...</td>\n",
       "      <td>8.028</td>\n",
       "      <td>79</td>\n",
       "    </tr>\n",
       "    <tr>\n",
       "      <th>2</th>\n",
       "      <td>/home/penguin/Data/cv-corpus-22.0-2025-06-20-k...</td>\n",
       "      <td>ადამიანები რომლებიც მედიტაციას მიმართავენ უფრო...</td>\n",
       "      <td>7.848</td>\n",
       "      <td>97</td>\n",
       "    </tr>\n",
       "    <tr>\n",
       "      <th>3</th>\n",
       "      <td>/home/penguin/Data/cv-corpus-22.0-2025-06-20-k...</td>\n",
       "      <td>ადმინისტრაციული ცენტრია ქალაქი ონი</td>\n",
       "      <td>4.716</td>\n",
       "      <td>34</td>\n",
       "    </tr>\n",
       "    <tr>\n",
       "      <th>4</th>\n",
       "      <td>/home/penguin/Data/cv-corpus-22.0-2025-06-20-k...</td>\n",
       "      <td>თუმცა შენობის ძირითადი ნაწილი მაშინ აშენდა და ...</td>\n",
       "      <td>7.920</td>\n",
       "      <td>82</td>\n",
       "    </tr>\n",
       "    <tr>\n",
       "      <th>...</th>\n",
       "      <td>...</td>\n",
       "      <td>...</td>\n",
       "      <td>...</td>\n",
       "      <td>...</td>\n",
       "    </tr>\n",
       "    <tr>\n",
       "      <th>62532</th>\n",
       "      <td>/home/penguin/Data/cv-corpus-22.0-2025-06-20-k...</td>\n",
       "      <td>რაიონის მონადირეები ზრუნავდნენ სანადირო მეურნე...</td>\n",
       "      <td>5.328</td>\n",
       "      <td>68</td>\n",
       "    </tr>\n",
       "    <tr>\n",
       "      <th>62533</th>\n",
       "      <td>/home/penguin/Data/cv-corpus-22.0-2025-06-20-k...</td>\n",
       "      <td>მის სიმღერებში შეიმჩნევა ჯაზური მუსიკის მკვეთრ...</td>\n",
       "      <td>4.536</td>\n",
       "      <td>55</td>\n",
       "    </tr>\n",
       "    <tr>\n",
       "      <th>62534</th>\n",
       "      <td>/home/penguin/Data/cv-corpus-22.0-2025-06-20-k...</td>\n",
       "      <td>კინოკარიერის წლების განმავლობაში იგი სხვა შემო...</td>\n",
       "      <td>4.896</td>\n",
       "      <td>63</td>\n",
       "    </tr>\n",
       "    <tr>\n",
       "      <th>62535</th>\n",
       "      <td>/home/penguin/Data/cv-corpus-22.0-2025-06-20-k...</td>\n",
       "      <td>ჯეირახის რაიონი მდებარეობს ინგუშეთის მთიან ნაწ...</td>\n",
       "      <td>7.236</td>\n",
       "      <td>90</td>\n",
       "    </tr>\n",
       "    <tr>\n",
       "      <th>62536</th>\n",
       "      <td>/home/penguin/Data/cv-corpus-22.0-2025-06-20-k...</td>\n",
       "      <td>ბალახებია აქვთ შეფოთლილი დამუხლული ღერო აქტინო...</td>\n",
       "      <td>7.920</td>\n",
       "      <td>96</td>\n",
       "    </tr>\n",
       "  </tbody>\n",
       "</table>\n",
       "<p>62537 rows × 4 columns</p>\n",
       "</div>"
      ],
      "text/plain": [
       "                                                    path  \\\n",
       "0      /home/penguin/Data/cv-corpus-22.0-2025-06-20-k...   \n",
       "1      /home/penguin/Data/cv-corpus-22.0-2025-06-20-k...   \n",
       "2      /home/penguin/Data/cv-corpus-22.0-2025-06-20-k...   \n",
       "3      /home/penguin/Data/cv-corpus-22.0-2025-06-20-k...   \n",
       "4      /home/penguin/Data/cv-corpus-22.0-2025-06-20-k...   \n",
       "...                                                  ...   \n",
       "62532  /home/penguin/Data/cv-corpus-22.0-2025-06-20-k...   \n",
       "62533  /home/penguin/Data/cv-corpus-22.0-2025-06-20-k...   \n",
       "62534  /home/penguin/Data/cv-corpus-22.0-2025-06-20-k...   \n",
       "62535  /home/penguin/Data/cv-corpus-22.0-2025-06-20-k...   \n",
       "62536  /home/penguin/Data/cv-corpus-22.0-2025-06-20-k...   \n",
       "\n",
       "                                                sentence  duration  \\\n",
       "0                ქედის ფარგლებში არის დაცული ტერიტორიები     4.428   \n",
       "1      ტერიტორიის ნაწილს აკონტროლებს ჰარაკატ აშშაბააბ...     8.028   \n",
       "2      ადამიანები რომლებიც მედიტაციას მიმართავენ უფრო...     7.848   \n",
       "3                     ადმინისტრაციული ცენტრია ქალაქი ონი     4.716   \n",
       "4      თუმცა შენობის ძირითადი ნაწილი მაშინ აშენდა და ...     7.920   \n",
       "...                                                  ...       ...   \n",
       "62532  რაიონის მონადირეები ზრუნავდნენ სანადირო მეურნე...     5.328   \n",
       "62533  მის სიმღერებში შეიმჩნევა ჯაზური მუსიკის მკვეთრ...     4.536   \n",
       "62534  კინოკარიერის წლების განმავლობაში იგი სხვა შემო...     4.896   \n",
       "62535  ჯეირახის რაიონი მდებარეობს ინგუშეთის მთიან ნაწ...     7.236   \n",
       "62536  ბალახებია აქვთ შეფოთლილი დამუხლული ღერო აქტინო...     7.920   \n",
       "\n",
       "       label_token_count  \n",
       "0                     39  \n",
       "1                     79  \n",
       "2                     97  \n",
       "3                     34  \n",
       "4                     82  \n",
       "...                  ...  \n",
       "62532                 68  \n",
       "62533                 55  \n",
       "62534                 63  \n",
       "62535                 90  \n",
       "62536                 96  \n",
       "\n",
       "[62537 rows x 4 columns]"
      ]
     },
     "execution_count": 113,
     "metadata": {},
     "output_type": "execute_result"
    }
   ],
   "source": [
    "original_df"
   ]
  },
  {
   "cell_type": "code",
   "execution_count": 115,
   "id": "e963c8c0",
   "metadata": {},
   "outputs": [],
   "source": [
    "import jax"
   ]
  },
  {
   "cell_type": "code",
   "execution_count": 123,
   "id": "e3e42eef",
   "metadata": {},
   "outputs": [
    {
     "data": {
      "text/plain": [
       "CpuDevice(id=0)"
      ]
     },
     "execution_count": 123,
     "metadata": {},
     "output_type": "execute_result"
    }
   ],
   "source": [
    "jax.devices('cpu')[0]"
   ]
  },
  {
   "cell_type": "code",
   "execution_count": null,
   "id": "c8333d8e",
   "metadata": {},
   "outputs": [
    {
     "data": {
      "text/plain": [
       "70848"
      ]
     },
     "execution_count": 131,
     "metadata": {},
     "output_type": "execute_result"
    }
   ],
   "source": [
    "int(4.428 * 16_000) - 1"
   ]
  },
  {
   "cell_type": "code",
   "execution_count": 124,
   "id": "1d33f545",
   "metadata": {},
   "outputs": [],
   "source": [
    "import jax.numpy as jnp"
   ]
  },
  {
   "cell_type": "code",
   "execution_count": 125,
   "id": "a97311a5",
   "metadata": {},
   "outputs": [],
   "source": [
    "arr = jnp.array([1, 2, 3])"
   ]
  },
  {
   "cell_type": "code",
   "execution_count": 129,
   "id": "e299f39a",
   "metadata": {},
   "outputs": [
    {
     "data": {
      "text/plain": [
       "Array([1, 2, 3, 0, 0], dtype=int32)"
      ]
     },
     "execution_count": 129,
     "metadata": {},
     "output_type": "execute_result"
    }
   ],
   "source": [
    "jnp.pad(arr, (0, 2), mode='constant', constant_values=0)"
   ]
  },
  {
   "cell_type": "code",
   "execution_count": 112,
   "id": "8b39542e",
   "metadata": {},
   "outputs": [
    {
     "data": {
      "text/plain": [
       "'ქედის ფარგლებში არის დაცული ტერიტორიები'"
      ]
     },
     "execution_count": 112,
     "metadata": {},
     "output_type": "execute_result"
    }
   ],
   "source": [
    "original_df.iloc[0]['sentence']"
   ]
  }
 ],
 "metadata": {
  "kernelspec": {
   "display_name": "default",
   "language": "python",
   "name": "python3"
  },
  "language_info": {
   "codemirror_mode": {
    "name": "ipython",
    "version": 3
   },
   "file_extension": ".py",
   "mimetype": "text/x-python",
   "name": "python",
   "nbconvert_exporter": "python",
   "pygments_lexer": "ipython3",
   "version": "3.12.11"
  }
 },
 "nbformat": 4,
 "nbformat_minor": 5
}
