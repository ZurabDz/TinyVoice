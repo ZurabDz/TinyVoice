{
 "cells": [
  {
   "cell_type": "code",
   "execution_count": null,
   "id": "043c1a9e",
   "metadata": {},
   "outputs": [],
   "source": [
    "from flax import nnx\n",
    "import jax.numpy as jnp\n",
    "import jax"
   ]
  },
  {
   "cell_type": "code",
   "execution_count": null,
   "id": "69e12123",
   "metadata": {},
   "outputs": [],
   "source": [
    "class ConvSubsampling(nnx.Module):\n",
    "    def __init__(self, output_dim: int, *, rngs: nnx.Rngs):\n",
    "        self.conv1 = nnx.Conv(in_features=1, out_features=output_dim, kernel_size=(3, 3), strides=(2, 2), rngs=rngs)\n",
    "        self.conv2 = nnx.Conv(in_features=output_dim, out_features=output_dim, kernel_size=(3, 3), strides=(2, 2), rngs=rngs)\n",
    "        # D * F/4 (F = mel_bins 80, hence 20)\n",
    "        self.linear = nnx.Linear(in_features=20 * output_dim, out_features=output_dim, rngs=rngs)\n",
    "        self.dropout = nnx.Dropout(0.1, rngs=rngs)\n",
    "\n",
    "    def __call__(self, x: jax.Array, *, is_train: bool):\n",
    "        x = nnx.relu(self.conv1(x)) # (B, T/2, F/2, D)\n",
    "        x = nnx.relu(self.conv2(x)) # (B, T/4, F/4, D)\n",
    "\n",
    "        B, T = x.shape[0], x.shape[1]\n",
    "        x = x.reshape(B, T, -1) # (B, T/4, F/4 * D)\n",
    "\n",
    "        x = self.linear(x)\n",
    "        x = self.dropout(x, deterministic=not is_train)\n",
    "\n",
    "        return x\n"
   ]
  },
  {
   "cell_type": "code",
   "execution_count": null,
   "id": "a9babe55",
   "metadata": {},
   "outputs": [],
   "source": [
    "class FeedForwardModule(nnx.Module):\n",
    "    def __init__(self, embed_dim, expand_factor, *, rngs):\n",
    "        intermediate_dim = embed_dim * expand_factor\n",
    "        self.norm = nnx.LayerNorm(embed_dim, rngs=rngs)\n",
    "        self.linear1 = nnx.Linear(embed_dim, intermediate_dim, rngs=rngs)\n",
    "        self.linear2 = nnx.Linear(intermediate_dim, embed_dim, rngs=rngs)\n",
    "        self.dropout1 = nnx.Dropout(0.1, rngs=rngs)\n",
    "        self.dropout2 = nnx.Dropout(0.1, rngs=rngs)\n",
    "\n",
    "    def __call__(self, x: jax.Array, *, train: bool):\n",
    "        x = self.norm(x)\n",
    "        x = self.linear1(x)\n",
    "        x = nnx.swish(x)\n",
    "        x = self.dropout1(x, deterministic=not train)\n",
    "        x = self.linear2(x)\n",
    "        x = self.dropout2(x, deterministic=not train)\n",
    "\n",
    "        return x"
   ]
  },
  {
   "cell_type": "code",
   "execution_count": null,
   "id": "ebae941c",
   "metadata": {},
   "outputs": [],
   "source": [
    "class MultiHeadSelfAttention(nnx.Module):\n",
    "    def __init__(self, embed_dim, num_heads, rngs: nnx.Rngs):\n",
    "        self.norm = nnx.LayerNorm(embed_dim, rngs=rngs)\n",
    "        self.attention = nnx.MultiHeadAttention(num_heads, embed)"
   ]
  },
  {
   "cell_type": "code",
   "execution_count": null,
   "id": "97af307f",
   "metadata": {},
   "outputs": [],
   "source": [
    "# class ConformerEncoder(nnx.Module):\n",
    "#     def __init__(self, num_layers: int):\n",
    "#         self.blocks = [\n",
    "#             ConformerBlock(\n",
    "\n",
    "#             ) for _ in range(num_layers)\n",
    "#         ]"
   ]
  },
  {
   "cell_type": "code",
   "execution_count": null,
   "id": "04f56adc",
   "metadata": {},
   "outputs": [],
   "source": [
    "subsampling = ConvSubsampling(80, rngs=nnx.Rngs(0))"
   ]
  },
  {
   "cell_type": "code",
   "execution_count": null,
   "id": "322404bf",
   "metadata": {},
   "outputs": [],
   "source": [
    "data = jnp.ones((1, 142, 80, 1))\n",
    "data.shape"
   ]
  },
  {
   "cell_type": "code",
   "execution_count": null,
   "id": "3cb411b9",
   "metadata": {},
   "outputs": [],
   "source": [
    "res = subsampling(data, is_train=True)"
   ]
  },
  {
   "cell_type": "code",
   "execution_count": null,
   "id": "a55804f5",
   "metadata": {},
   "outputs": [],
   "source": [
    "res.shape"
   ]
  },
  {
   "cell_type": "code",
   "execution_count": null,
   "id": "f6fc3733",
   "metadata": {},
   "outputs": [],
   "source": [
    "ffn = FeedForwardModule(80, 4, rngs=nnx.Rngs(1))"
   ]
  },
  {
   "cell_type": "code",
   "execution_count": null,
   "id": "6b528081",
   "metadata": {},
   "outputs": [],
   "source": [
    "ffn(res, train=True).shape"
   ]
  },
  {
   "cell_type": "code",
   "execution_count": null,
   "id": "d1764331",
   "metadata": {},
   "outputs": [],
   "source": []
  }
 ],
 "metadata": {
  "kernelspec": {
   "display_name": "microlm",
   "language": "python",
   "name": "python3"
  },
  "language_info": {
   "codemirror_mode": {
    "name": "ipython",
    "version": 3
   },
   "file_extension": ".py",
   "mimetype": "text/x-python",
   "name": "python",
   "nbconvert_exporter": "python",
   "pygments_lexer": "ipython3",
   "version": "3.12.8"
  }
 },
 "nbformat": 4,
 "nbformat_minor": 5
}
