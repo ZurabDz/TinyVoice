{
 "cells": [
  {
   "cell_type": "code",
   "execution_count": 1,
   "id": "7e012eb4",
   "metadata": {},
   "outputs": [],
   "source": [
    "from pathlib import Path\n",
    "import pandas as pd\n",
    "from tqdm import tqdm\n",
    "from conformer.tokenizer import build_tokenizer\n",
    "from conformer.dataset import batch_fn, ProcessAudioData, create_array_record_dataset\n",
    "import grain\n",
    "from functools import partial"
   ]
  },
  {
   "cell_type": "code",
   "execution_count": 2,
   "id": "20bb9552",
   "metadata": {},
   "outputs": [
    {
     "name": "stdout",
     "output_type": "stream",
     "text": [
      "Vocabulary size: 41\n"
     ]
    }
   ],
   "source": [
    "ROOT_PATH = '/home/penguin/Data/cv-corpus-22.0-2025-06-20-ka/cv-corpus-22.0-2025-06-20/ka'\n",
    "df = pd.read_csv(Path(ROOT_PATH) / 'train_mod.tsv', delimiter='\\t')\n",
    "tokenizer = build_tokenizer(df['sentence'].values)"
   ]
  },
  {
   "cell_type": "code",
   "execution_count": 3,
   "id": "0fd39ea9",
   "metadata": {},
   "outputs": [
    {
     "name": "stderr",
     "output_type": "stream",
     "text": [
      "100%|██████████| 62537/62537 [00:22<00:00, 2724.83it/s]\n"
     ]
    }
   ],
   "source": [
    "create_array_record_dataset(df, 'data')"
   ]
  },
  {
   "cell_type": "code",
   "execution_count": 5,
   "id": "00f9ca1c",
   "metadata": {},
   "outputs": [],
   "source": [
    "audio_source = grain.sources.ArrayRecordDataSource('/home/penguin/Desktop/research/data/data.array_record')\n",
    "with_tokenizer_batch_fn = partial(batch_fn, tokenizer=tokenizer)"
   ]
  },
  {
   "cell_type": "code",
   "execution_count": 10,
   "id": "bfceca80",
   "metadata": {},
   "outputs": [
    {
     "data": {
      "text/plain": [
       "(np.int64(164), np.float64(205632.0))"
      ]
     },
     "execution_count": 10,
     "metadata": {},
     "output_type": "execute_result"
    }
   ],
   "source": [
    "df['label_token_count'].max(), df['duration'].max() * 16_000"
   ]
  },
  {
   "cell_type": "code",
   "execution_count": 11,
   "id": "b4f6e73a",
   "metadata": {},
   "outputs": [],
   "source": [
    "map_audio_dataset = grain.MapDataset.source(audio_source)"
   ]
  },
  {
   "cell_type": "code",
   "execution_count": 12,
   "id": "d3a069cd",
   "metadata": {},
   "outputs": [],
   "source": [
    "example_datasets = (\n",
    "    map_audio_dataset\n",
    "    .shuffle(seed=42)\n",
    "    .map(ProcessAudioData(tokenizer))\n",
    "    .batch(batch_size=24, batch_fn=with_tokenizer_batch_fn)\n",
    ")"
   ]
  },
  {
   "cell_type": "code",
   "execution_count": 13,
   "id": "024dc7c2",
   "metadata": {},
   "outputs": [],
   "source": [
    "from conformer.conformer_block import ConformerEncoder\n",
    "from conformer.config import ConformerConfig, TrainingConfig\n",
    "from flax import nnx\n",
    "conformer_config = ConformerConfig()\n",
    "train_config = TrainingConfig()\n",
    "import jax.numpy as jnp\n",
    "import optax\n",
    "import jax\n"
   ]
  },
  {
   "cell_type": "code",
   "execution_count": null,
   "id": "7118bfd3",
   "metadata": {},
   "outputs": [],
   "source": [
    "model = ConformerEncoder(conformer_config, num_classes=42, rngs=nnx.Rngs(0))"
   ]
  },
  {
   "cell_type": "code",
   "execution_count": null,
   "id": "7d31ede2",
   "metadata": {},
   "outputs": [],
   "source": [
    "def create_padding_mask(lengths: jnp.ndarray, max_len: int) -> jnp.ndarray:\n",
    "    batch_size = lengths.shape[0]\n",
    "    indices = jnp.arange(max_len).reshape(1, -1)\n",
    "    mask = indices >= lengths.reshape(-1, 1)\n",
    "    return mask.astype(jnp.float32)\n",
    "\n",
    "def create_learning_rate_fn(warmup_steps: int, model_size: int):\n",
    "    def lr_fn(step):\n",
    "        arg1 = 1 / jnp.sqrt(step + 1e-9)\n",
    "        arg2 = step * (warmup_steps ** -1.5)\n",
    "        return (1 / jnp.sqrt(model_size)) * jnp.minimum(arg1, arg2)\n",
    "    return lr_fn\n",
    "\n",
    "@nnx.jit(donate_argnums=0)\n",
    "def train_step(model: ConformerEncoder, optimizer: nnx.Optimizer, batch: dict):\n",
    "\n",
    "    def loss_fn(model: ConformerEncoder):\n",
    "        log_probs, output_lengths = model(\n",
    "            batch[\"inputs\"], batch[\"input_lengths\"], training=True\n",
    "        )\n",
    "\n",
    "        max_logit_len = log_probs.shape[1]\n",
    "        max_label_len = batch[\"labels\"].shape[1]\n",
    "        logit_paddings = create_padding_mask(output_lengths, max_logit_len)\n",
    "        label_paddings = create_padding_mask(batch[\"label_lengths\"], max_label_len)\n",
    "        \n",
    "        loss = optax.ctc_loss(\n",
    "            log_probs, logit_paddings, batch[\"labels\"], label_paddings\n",
    "        ).mean()\n",
    "        return loss\n",
    "    \n",
    "    loss, grads = nnx.value_and_grad(loss_fn)(model)\n",
    "    optimizer.update(model=model, grads=grads)\n",
    "    return loss"
   ]
  },
  {
   "cell_type": "code",
   "execution_count": null,
   "id": "7db1049b",
   "metadata": {},
   "outputs": [],
   "source": [
    "lr_schedule = create_learning_rate_fn(train_config.warmup_steps, conformer_config.encoder_dim)\n",
    "optimizer = nnx.Optimizer(\n",
    "    model,\n",
    "    optax.adamw(\n",
    "        learning_rate=lr_schedule,\n",
    "        b1=train_config.beta1,\n",
    "        b2=train_config.beta2,\n",
    "        weight_decay=train_config.weight_decay,\n",
    "    ),\n",
    "    wrt=nnx.Param\n",
    ")"
   ]
  },
  {
   "cell_type": "code",
   "execution_count": null,
   "id": "1959a984",
   "metadata": {},
   "outputs": [],
   "source": [
    "train_step(model, optimizer, example_datasets[2])"
   ]
  },
  {
   "cell_type": "code",
   "execution_count": null,
   "id": "793a3b41",
   "metadata": {},
   "outputs": [],
   "source": [
    "for batch in tqdm(example_datasets):\n",
    "    loss = train_step(model, optimizer, batch)"
   ]
  },
  {
   "cell_type": "code",
   "execution_count": null,
   "id": "bd8a02c1",
   "metadata": {},
   "outputs": [],
   "source": [
    "with jax.profiler.trace(\"/tmp/profile-data\"):\n",
    "    i = 0\n",
    "    for batch in example_datasets:\n",
    "        loss = train_step(model, optimizer, batch)\n",
    "\n",
    "        i += 1\n",
    "\n",
    "        if i == 10:\n",
    "            break"
   ]
  }
 ],
 "metadata": {
  "kernelspec": {
   "display_name": "default",
   "language": "python",
   "name": "python3"
  },
  "language_info": {
   "codemirror_mode": {
    "name": "ipython",
    "version": 3
   },
   "file_extension": ".py",
   "mimetype": "text/x-python",
   "name": "python",
   "nbconvert_exporter": "python",
   "pygments_lexer": "ipython3",
   "version": "3.12.11"
  }
 },
 "nbformat": 4,
 "nbformat_minor": 5
}
