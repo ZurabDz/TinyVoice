{
 "cells": [
  {
   "cell_type": "code",
   "execution_count": 1,
   "metadata": {},
   "outputs": [],
   "source": [
    "from dataset import RawAudioDataset, custom_collate_fn\n",
    "from model import GigachadVoice\n",
    "import torch.nn as nn\n",
    "import torch\n",
    "from torch.utils.data import DataLoader\n",
    "import torch.optim as optim"
   ]
  },
  {
   "cell_type": "code",
   "execution_count": 2,
   "metadata": {},
   "outputs": [],
   "source": [
    "dataset = RawAudioDataset(\"test.csv\")\n",
    "train_loader = DataLoader(dataset, batch_size=8, collate_fn=custom_collate_fn, shuffle=False)"
   ]
  },
  {
   "cell_type": "code",
   "execution_count": 3,
   "metadata": {},
   "outputs": [],
   "source": [
    "model = GigachadVoice()\n",
    "\n",
    "learning_rate = 0.0001\n",
    "criterion = nn.CTCLoss()\n",
    "optimizer = optim.Adam(model.parameters(), lr=learning_rate)"
   ]
  },
  {
   "cell_type": "code",
   "execution_count": 4,
   "metadata": {},
   "outputs": [
    {
     "name": "stdout",
     "output_type": "stream",
     "text": [
      "outputs:  torch.Size([485, 8, 34])\n",
      "labels:  torch.Size([8, 145])\n",
      "output_length:  tensor([485, 485, 485, 485, 485, 485, 485, 485])\n",
      "target_length:  tensor([145, 145, 145, 145, 145, 145, 145, 145])\n",
      "tensor(9.7083, grad_fn=<MeanBackward0>)\n",
      "outputs:  torch.Size([521, 8, 34])\n",
      "labels:  torch.Size([8, 190])\n",
      "output_length:  tensor([521, 521, 521, 521, 521, 521, 521, 521])\n",
      "target_length:  tensor([190, 190, 190, 190, 190, 190, 190, 190])\n",
      "tensor(4.1185, grad_fn=<MeanBackward0>)\n",
      "outputs:  torch.Size([566, 8, 34])\n",
      "labels:  torch.Size([8, 170])\n",
      "output_length:  tensor([566, 566, 566, 566, 566, 566, 566, 566])\n",
      "target_length:  tensor([170, 170, 170, 170, 170, 170, 170, 170])\n",
      "tensor(nan, grad_fn=<MeanBackward0>)\n",
      "outputs:  torch.Size([760, 8, 34])\n",
      "labels:  torch.Size([8, 182])\n",
      "output_length:  tensor([760, 760, 760, 760, 760, 760, 760, 760])\n",
      "target_length:  tensor([182, 182, 182, 182, 182, 182, 182, 182])\n",
      "tensor(nan, grad_fn=<MeanBackward0>)\n"
     ]
    },
    {
     "ename": "KeyboardInterrupt",
     "evalue": "",
     "output_type": "error",
     "traceback": [
      "\u001b[0;31m---------------------------------------------------------------------------\u001b[0m",
      "\u001b[0;31mKeyboardInterrupt\u001b[0m                         Traceback (most recent call last)",
      "\u001b[1;32m/home/penguin/Documents/MiniatureVoice/train.ipynb Cell 4'\u001b[0m in \u001b[0;36m<cell line: 1>\u001b[0;34m()\u001b[0m\n\u001b[1;32m     <a href='vscode-notebook-cell:/home/penguin/Documents/MiniatureVoice/train.ipynb#ch0000003?line=19'>20</a>\u001b[0m loss \u001b[39m=\u001b[39m criterion(outputs, labels, output_length, target_lengths)\n\u001b[1;32m     <a href='vscode-notebook-cell:/home/penguin/Documents/MiniatureVoice/train.ipynb#ch0000003?line=20'>21</a>\u001b[0m \u001b[39mprint\u001b[39m(loss)\n\u001b[0;32m---> <a href='vscode-notebook-cell:/home/penguin/Documents/MiniatureVoice/train.ipynb#ch0000003?line=21'>22</a>\u001b[0m loss\u001b[39m.\u001b[39;49mbackward()\n\u001b[1;32m     <a href='vscode-notebook-cell:/home/penguin/Documents/MiniatureVoice/train.ipynb#ch0000003?line=22'>23</a>\u001b[0m torch\u001b[39m.\u001b[39mnn\u001b[39m.\u001b[39mutils\u001b[39m.\u001b[39mclip_grad_norm_(model\u001b[39m.\u001b[39mparameters(), \u001b[39m0.01\u001b[39m)\n\u001b[1;32m     <a href='vscode-notebook-cell:/home/penguin/Documents/MiniatureVoice/train.ipynb#ch0000003?line=23'>24</a>\u001b[0m optimizer\u001b[39m.\u001b[39mstep()\n",
      "File \u001b[0;32m~/miniconda3/envs/fairseq_stt_apex/lib/python3.8/site-packages/torch/_tensor.py:363\u001b[0m, in \u001b[0;36mTensor.backward\u001b[0;34m(self, gradient, retain_graph, create_graph, inputs)\u001b[0m\n\u001b[1;32m    354\u001b[0m \u001b[39mif\u001b[39;00m has_torch_function_unary(\u001b[39mself\u001b[39m):\n\u001b[1;32m    355\u001b[0m     \u001b[39mreturn\u001b[39;00m handle_torch_function(\n\u001b[1;32m    356\u001b[0m         Tensor\u001b[39m.\u001b[39mbackward,\n\u001b[1;32m    357\u001b[0m         (\u001b[39mself\u001b[39m,),\n\u001b[0;32m   (...)\u001b[0m\n\u001b[1;32m    361\u001b[0m         create_graph\u001b[39m=\u001b[39mcreate_graph,\n\u001b[1;32m    362\u001b[0m         inputs\u001b[39m=\u001b[39minputs)\n\u001b[0;32m--> 363\u001b[0m torch\u001b[39m.\u001b[39;49mautograd\u001b[39m.\u001b[39;49mbackward(\u001b[39mself\u001b[39;49m, gradient, retain_graph, create_graph, inputs\u001b[39m=\u001b[39;49minputs)\n",
      "File \u001b[0;32m~/miniconda3/envs/fairseq_stt_apex/lib/python3.8/site-packages/torch/autograd/__init__.py:173\u001b[0m, in \u001b[0;36mbackward\u001b[0;34m(tensors, grad_tensors, retain_graph, create_graph, grad_variables, inputs)\u001b[0m\n\u001b[1;32m    168\u001b[0m     retain_graph \u001b[39m=\u001b[39m create_graph\n\u001b[1;32m    170\u001b[0m \u001b[39m# The reason we repeat same the comment below is that\u001b[39;00m\n\u001b[1;32m    171\u001b[0m \u001b[39m# some Python versions print out the first line of a multi-line function\u001b[39;00m\n\u001b[1;32m    172\u001b[0m \u001b[39m# calls in the traceback and some print out the last line\u001b[39;00m\n\u001b[0;32m--> 173\u001b[0m Variable\u001b[39m.\u001b[39;49m_execution_engine\u001b[39m.\u001b[39;49mrun_backward(  \u001b[39m# Calls into the C++ engine to run the backward pass\u001b[39;49;00m\n\u001b[1;32m    174\u001b[0m     tensors, grad_tensors_, retain_graph, create_graph, inputs,\n\u001b[1;32m    175\u001b[0m     allow_unreachable\u001b[39m=\u001b[39;49m\u001b[39mTrue\u001b[39;49;00m, accumulate_grad\u001b[39m=\u001b[39;49m\u001b[39mTrue\u001b[39;49;00m)\n",
      "\u001b[0;31mKeyboardInterrupt\u001b[0m: "
     ]
    }
   ],
   "source": [
    "for epoch in range(1, 3):  # loop over the dataset multiple times\n",
    "\n",
    "    running_loss = 0.0\n",
    "    for i, data in enumerate(train_loader, 1):\n",
    "        # get the inputs; data is a list of [inputs, labels]\n",
    "        inputs, labels = data\n",
    "\n",
    "        input_length = torch.tensor([inputs.shape[2]] * inputs.shape[0])\n",
    "        target_lengths = torch.tensor([len(label) for label in labels])\n",
    "\n",
    "        # zero the parameter gradients\n",
    "        optimizer.zero_grad()\n",
    "\n",
    "        # forward + backward + optimize\n",
    "        outputs, output_length = model(inputs, input_length)\n",
    "        print('outputs: ', outputs.shape)\n",
    "        print('labels: ', labels.shape)\n",
    "        print('output_length: ', output_length)\n",
    "        print('target_length: ', target_lengths)\n",
    "        loss = criterion(outputs, labels, output_length, target_lengths)\n",
    "        print(loss)\n",
    "        loss.backward()\n",
    "        torch.nn.utils.clip_grad_norm_(model.parameters(), 0.01)\n",
    "        optimizer.step()\n",
    "\n",
    "        # print(loss)\n",
    "\n",
    "        # break\n",
    "\n",
    "        # print statistics\n",
    "        running_loss += loss.item()\n",
    "        if i % 10 == 0:    # print every 2000 mini-batches\n",
    "            print(f'[{epoch}, {i:5d}] loss: {running_loss / 2000:.3f}')\n",
    "            running_loss = 0.0\n",
    "\n",
    "print('Finished Training')"
   ]
  },
  {
   "cell_type": "code",
   "execution_count": null,
   "metadata": {},
   "outputs": [],
   "source": []
  }
 ],
 "metadata": {
  "kernelspec": {
   "display_name": "Python 3.8.13 ('fairseq_stt_apex')",
   "language": "python",
   "name": "python3"
  },
  "language_info": {
   "codemirror_mode": {
    "name": "ipython",
    "version": 3
   },
   "file_extension": ".py",
   "mimetype": "text/x-python",
   "name": "python",
   "nbconvert_exporter": "python",
   "pygments_lexer": "ipython3",
   "version": "3.8.13"
  },
  "orig_nbformat": 4,
  "vscode": {
   "interpreter": {
    "hash": "661ea9232e0ef9838d4c91d8c168ff73b86f60d796c5f2c3a4f52eb42fdc4c2d"
   }
  }
 },
 "nbformat": 4,
 "nbformat_minor": 2
}
