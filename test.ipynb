{
 "cells": [
  {
   "cell_type": "code",
   "execution_count": 1,
   "id": "4ccb3496",
   "metadata": {},
   "outputs": [],
   "source": [
    "from conformer.tokenizer import build_tokenizer\n",
    "from conformer.dataset import AudioDataSource, batch_fn\n",
    "import grain\n",
    "from flax import nnx\n",
    "from conformer.config import AudioConfig, ConformerConfig, TrainingConfig\n",
    "from functools import partial\n",
    "import jax.numpy as jnp\n",
    "from conformer.conformer_block import ConformerEncoder\n",
    "from conformer.config import ConformerConfig\n",
    "from tqdm import tqdm\n",
    "import jax\n",
    "import optax\n",
    "from pathlib import Path\n",
    "import pandas as pd"
   ]
  },
  {
   "cell_type": "code",
   "execution_count": 2,
   "id": "bfda3ef5",
   "metadata": {},
   "outputs": [
    {
     "name": "stdout",
     "output_type": "stream",
     "text": [
      "Vocabulary size: 41\n"
     ]
    }
   ],
   "source": [
    "ROOT_PATH = '/home/penguin/Data/cv-corpus-22.0-2025-06-20-ka/cv-corpus-22.0-2025-06-20/ka'\n",
    "\n",
    "df = pd.read_csv(Path(ROOT_PATH) / 'train_mod.tsv', delimiter='\\t')\n",
    "tokenizer = build_tokenizer(df['sentence'].values)\n",
    "audio_config = AudioConfig()\n",
    "conformer_config = ConformerConfig()\n",
    "train_config = TrainingConfig()"
   ]
  },
  {
   "cell_type": "code",
   "execution_count": 3,
   "id": "55577f4e",
   "metadata": {},
   "outputs": [],
   "source": [
    "audio_source = AudioDataSource(df, tokenizer)"
   ]
  },
  {
   "cell_type": "code",
   "execution_count": 4,
   "id": "16a25897",
   "metadata": {},
   "outputs": [],
   "source": [
    "batch_size=64\n",
    "dataset = (\n",
    "    grain.MapDataset.source(audio_source)\n",
    "    .shuffle(seed=42)\n",
    "    .batch(batch_size=batch_size, batch_fn=batch_fn)\n",
    ")"
   ]
  },
  {
   "cell_type": "code",
   "execution_count": 5,
   "id": "3f61d85b",
   "metadata": {},
   "outputs": [],
   "source": [
    "iter_dataset = dataset.to_iter_dataset(\n",
    "    grain.ReadOptions(num_threads=4, prefetch_buffer_size=64)\n",
    ")"
   ]
  },
  {
   "cell_type": "code",
   "execution_count": 6,
   "id": "62ae6165",
   "metadata": {},
   "outputs": [],
   "source": [
    "model = ConformerEncoder(conformer_config, num_classes=42, rngs=nnx.Rngs(0))"
   ]
  },
  {
   "cell_type": "code",
   "execution_count": 7,
   "id": "2cf2b9d8",
   "metadata": {},
   "outputs": [],
   "source": [
    "def create_padding_mask(lengths: jnp.ndarray, max_len: int) -> jnp.ndarray:\n",
    "    batch_size = lengths.shape[0]\n",
    "    indices = jnp.arange(max_len).reshape(1, -1)\n",
    "    mask = indices >= lengths.reshape(-1, 1)\n",
    "    return mask.astype(jnp.float32)"
   ]
  },
  {
   "cell_type": "code",
   "execution_count": 8,
   "id": "f65d877a",
   "metadata": {},
   "outputs": [],
   "source": [
    "def create_learning_rate_fn(warmup_steps: int, model_size: int):\n",
    "    def lr_fn(step):\n",
    "        arg1 = 1 / jnp.sqrt(step + 1e-9)\n",
    "        arg2 = step * (warmup_steps ** -1.5)\n",
    "        return (1 / jnp.sqrt(model_size)) * jnp.minimum(arg1, arg2)\n",
    "    return lr_fn\n",
    "\n",
    "@nnx.jit(donate_argnums=0)\n",
    "def train_step(model: ConformerEncoder, optimizer: nnx.Optimizer, batch: dict):\n",
    "\n",
    "    def loss_fn(model: ConformerEncoder):\n",
    "        log_probs, output_lengths = model(\n",
    "            batch[\"inputs\"], batch[\"input_lengths\"], training=True\n",
    "        )\n",
    "\n",
    "        max_logit_len = log_probs.shape[1]\n",
    "        max_label_len = batch[\"labels\"].shape[1]\n",
    "        logit_paddings = create_padding_mask(output_lengths, max_logit_len)\n",
    "        label_paddings = create_padding_mask(batch[\"label_lengths\"], max_label_len)\n",
    "        \n",
    "        loss = optax.ctc_loss(\n",
    "            log_probs, logit_paddings, batch[\"labels\"], label_paddings\n",
    "        ).mean()\n",
    "        return loss\n",
    "    \n",
    "    loss, grads = nnx.value_and_grad(loss_fn)(model)\n",
    "    optimizer.update(model=model, grads=grads)\n",
    "    return loss"
   ]
  },
  {
   "cell_type": "code",
   "execution_count": 9,
   "id": "0f7fdfee",
   "metadata": {},
   "outputs": [],
   "source": [
    "lr_schedule = create_learning_rate_fn(train_config.warmup_steps, conformer_config.encoder_dim)\n",
    "optimizer = nnx.Optimizer(\n",
    "    model,\n",
    "    optax.adamw(\n",
    "        learning_rate=lr_schedule,\n",
    "        b1=train_config.beta1,\n",
    "        b2=train_config.beta2,\n",
    "        weight_decay=train_config.weight_decay,\n",
    "    ),\n",
    "    wrt=nnx.Param\n",
    ")"
   ]
  },
  {
   "cell_type": "code",
   "execution_count": 10,
   "id": "67af4726",
   "metadata": {},
   "outputs": [
    {
     "data": {
      "text/plain": [
       "Array(35469.72, dtype=float32)"
      ]
     },
     "execution_count": 10,
     "metadata": {},
     "output_type": "execute_result"
    }
   ],
   "source": [
    "# running once for jax to actually jit train_step\n",
    "train_step(model, optimizer, dataset[12])"
   ]
  },
  {
   "cell_type": "code",
   "execution_count": null,
   "id": "57f7f2c1",
   "metadata": {},
   "outputs": [],
   "source": [
    "with tqdm(iter_dataset, unit=\"batch\") as pbar:\n",
    "    for element in pbar:\n",
    "        loss = train_step(model, optimizer, element)\n",
    "        pbar.set_postfix(loss=f\"{loss:.4f}\")"
   ]
  },
  {
   "cell_type": "code",
   "execution_count": null,
   "id": "f7c9de9e",
   "metadata": {},
   "outputs": [],
   "source": [
    "with jax.profiler.trace(\"/tmp/profile-data\"):\n",
    "    i = 0\n",
    "    for element in tqdm(iter_dataset):\n",
    "        loss = train_step(model, optimizer, element)\n",
    "        print(\"Loss:\", loss)\n",
    "        if i == 50:\n",
    "            break\n",
    "        i += 1\n"
   ]
  },
  {
   "cell_type": "code",
   "execution_count": null,
   "id": "7ac5eb07",
   "metadata": {},
   "outputs": [],
   "source": [
    "for _ in tqdm(range(1000)):\n",
    "    loss = train_step(model, optimizer, element)"
   ]
  }
 ],
 "metadata": {
  "kernelspec": {
   "display_name": "default",
   "language": "python",
   "name": "python3"
  },
  "language_info": {
   "codemirror_mode": {
    "name": "ipython",
    "version": 3
   },
   "file_extension": ".py",
   "mimetype": "text/x-python",
   "name": "python",
   "nbconvert_exporter": "python",
   "pygments_lexer": "ipython3",
   "version": "3.12.11"
  }
 },
 "nbformat": 4,
 "nbformat_minor": 5
}
