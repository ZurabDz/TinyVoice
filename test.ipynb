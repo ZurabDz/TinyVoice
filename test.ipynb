{
 "cells": [
  {
   "cell_type": "code",
   "execution_count": 1,
   "id": "4ccb3496",
   "metadata": {},
   "outputs": [],
   "source": [
    "from conformer.tokenizer import build_tokenizer\n",
    "from conformer.dataset import AudioDataSource, batch_fn\n",
    "import grain\n",
    "from flax import nnx\n",
    "from conformer.config import AudioConfig, ConformerConfig\n",
    "from conformer.conv_subsampler import ConvolutionSubsampling\n",
    "from functools import partial\n",
    "import jax.numpy as jnp"
   ]
  },
  {
   "cell_type": "code",
   "execution_count": 2,
   "id": "bfda3ef5",
   "metadata": {},
   "outputs": [
    {
     "name": "stdout",
     "output_type": "stream",
     "text": [
      "Vocabulary size: 49\n"
     ]
    }
   ],
   "source": [
    "ROOT_PATH = '/home/penguin/Data/cv-corpus-22.0-2025-06-20-ka/cv-corpus-22.0-2025-06-20/ka'\n",
    "tokenizer = build_tokenizer(ROOT_PATH)\n",
    "audio_config = AudioConfig()\n",
    "audio_source = AudioDataSource(ROOT_PATH, tokenizer)"
   ]
  },
  {
   "cell_type": "code",
   "execution_count": 3,
   "id": "4abb1400",
   "metadata": {},
   "outputs": [],
   "source": [
    "train_batch_fn = partial(batch_fn, tokenizer=tokenizer, audio_config=audio_config)"
   ]
  },
  {
   "cell_type": "code",
   "execution_count": 4,
   "id": "16a25897",
   "metadata": {},
   "outputs": [],
   "source": [
    "batch_size=32\n",
    "dataset = (\n",
    "    grain.MapDataset.source(audio_source)\n",
    "    .shuffle(seed=42)\n",
    "    .batch(batch_size=batch_size, batch_fn=train_batch_fn)\n",
    ")"
   ]
  },
  {
   "cell_type": "code",
   "execution_count": 5,
   "id": "3f61d85b",
   "metadata": {},
   "outputs": [],
   "source": [
    "iter_dataset = dataset.to_iter_dataset(\n",
    "    grain.ReadOptions(num_threads=8, prefetch_buffer_size=64)\n",
    ")"
   ]
  },
  {
   "cell_type": "code",
   "execution_count": 6,
   "id": "7a8cb86e",
   "metadata": {},
   "outputs": [],
   "source": [
    "conformer_config = ConformerConfig()"
   ]
  },
  {
   "cell_type": "code",
   "execution_count": 7,
   "id": "68a5e006",
   "metadata": {},
   "outputs": [],
   "source": [
    "subsampler = ConvolutionSubsampling(output_dim=conformer_config.encoder_dim, rngs=nnx.Rngs(0))"
   ]
  },
  {
   "cell_type": "code",
   "execution_count": 8,
   "id": "c574dbd4",
   "metadata": {},
   "outputs": [
    {
     "data": {
      "text/plain": [
       "(4, 180, 144)"
      ]
     },
     "execution_count": 8,
     "metadata": {},
     "output_type": "execute_result"
    }
   ],
   "source": [
    "x = subsampler(jnp.ones((4, 720, 80)), training=False)\n",
    "x.shape"
   ]
  },
  {
   "cell_type": "code",
   "execution_count": 9,
   "id": "f187482d",
   "metadata": {},
   "outputs": [],
   "source": [
    "from conformer.conformer_block import ConformerEncoder\n",
    "from conformer.config import ConformerConfig"
   ]
  },
  {
   "cell_type": "code",
   "execution_count": 10,
   "id": "62ae6165",
   "metadata": {},
   "outputs": [],
   "source": [
    "conformer_encoder = ConformerEncoder(conformer_config, num_classes=42, rngs=nnx.Rngs(0))"
   ]
  },
  {
   "cell_type": "code",
   "execution_count": 11,
   "id": "6ffa6781",
   "metadata": {},
   "outputs": [],
   "source": [
    "inputs, inputs_length = dataset[0]['inputs'], dataset[0]['input_lengths']"
   ]
  },
  {
   "cell_type": "code",
   "execution_count": 12,
   "id": "6c685c3c",
   "metadata": {},
   "outputs": [
    {
     "data": {
      "text/plain": [
       "(1, 206, 42)"
      ]
     },
     "execution_count": 12,
     "metadata": {},
     "output_type": "execute_result"
    }
   ],
   "source": [
    "inputs, inputs_length = dataset[0]['inputs'][0], dataset[0]['input_lengths'][0]\n",
    "x = jnp.expand_dims(inputs, axis=0)\n",
    "x2 = jnp.expand_dims(inputs_length, axis=0)\n",
    "conformer_encoder(x, x2, training=False)[0].shape"
   ]
  },
  {
   "cell_type": "code",
   "execution_count": 13,
   "id": "bb91b2cb",
   "metadata": {},
   "outputs": [
    {
     "data": {
      "text/plain": [
       "{CudaDevice(id=0)}"
      ]
     },
     "execution_count": 13,
     "metadata": {},
     "output_type": "execute_result"
    }
   ],
   "source": [
    "dataset[0]['inputs'].devices()"
   ]
  },
  {
   "cell_type": "code",
   "execution_count": 14,
   "id": "e06a41ed",
   "metadata": {},
   "outputs": [],
   "source": [
    "from tqdm import tqdm"
   ]
  },
  {
   "cell_type": "code",
   "execution_count": 15,
   "id": "0b8eacae",
   "metadata": {},
   "outputs": [
    {
     "data": {
      "text/plain": [
       "((1, 821, 80), (1,))"
      ]
     },
     "execution_count": 15,
     "metadata": {},
     "output_type": "execute_result"
    }
   ],
   "source": [
    "x.shape, x2.shape"
   ]
  },
  {
   "cell_type": "code",
   "execution_count": 16,
   "id": "f65d877a",
   "metadata": {},
   "outputs": [],
   "source": [
    "@nnx.jit\n",
    "def train_step(model: ConformerEncoder, batch: dict):\n",
    "    \n",
    "    def loss_fn(model: ConformerEncoder):\n",
    "        log_probs, output_lengths = model(\n",
    "            batch[\"inputs\"], batch[\"input_lengths\"], training=False\n",
    "        )\n",
    "        \n",
    "        return log_probs\n",
    "    \n",
    "    log_probs = loss_fn(model)\n",
    "    return log_probs"
   ]
  },
  {
   "cell_type": "code",
   "execution_count": 17,
   "id": "a115c273",
   "metadata": {},
   "outputs": [
    {
     "data": {
      "text/plain": [
       "Array([[[-3.7503004, -4.005907 , -1.8450456, ..., -3.0749722,\n",
       "         -4.797942 , -3.0506206],\n",
       "        [-3.4508882, -4.191522 , -1.7587198, ..., -3.4552402,\n",
       "         -5.19321  , -3.713553 ],\n",
       "        [-3.8005195, -3.28516  , -1.4204216, ..., -3.8842711,\n",
       "         -4.4585037, -4.411375 ],\n",
       "        ...,\n",
       "        [-3.2474875, -4.156693 , -1.4352329, ..., -3.5550833,\n",
       "         -5.009884 , -3.6632829],\n",
       "        [-3.237942 , -4.154594 , -1.3675549, ..., -3.5617847,\n",
       "         -5.072281 , -3.671265 ],\n",
       "        [-3.15376  , -4.308777 , -1.2650965, ..., -3.7040615,\n",
       "         -5.1331043, -4.6156125]],\n",
       "\n",
       "       [[-4.000767 , -5.05459  , -2.4097311, ..., -2.891604 ,\n",
       "         -4.9167185, -3.0327392],\n",
       "        [-3.8264103, -4.7299333, -1.9516429, ..., -3.6300182,\n",
       "         -5.3756022, -4.0153537],\n",
       "        [-3.9146795, -4.1548595, -1.6208906, ..., -3.225204 ,\n",
       "         -4.5990534, -3.8018863],\n",
       "        ...,\n",
       "        [-3.270958 , -4.8632526, -1.6055392, ..., -3.4922915,\n",
       "         -5.0999346, -3.8166304],\n",
       "        [-3.2758284, -4.861122 , -1.5862799, ..., -3.4721556,\n",
       "         -5.145126 , -3.81329  ],\n",
       "        [-3.1725922, -4.9500923, -1.4948452, ..., -3.5897403,\n",
       "         -5.21052  , -4.7764826]],\n",
       "\n",
       "       [[-3.3172956, -4.8549848, -2.1020744, ..., -2.6743338,\n",
       "         -4.8429585, -2.8522818],\n",
       "        [-3.1550994, -4.8796387, -1.185932 , ..., -3.6839676,\n",
       "         -5.1339035, -3.476427 ],\n",
       "        [-3.7296505, -4.141761 , -1.4841688, ..., -3.2220182,\n",
       "         -4.945686 , -2.5391393],\n",
       "        ...,\n",
       "        [-3.0488813, -4.4101977, -1.4463702, ..., -3.3019328,\n",
       "         -5.1002254, -3.6484008],\n",
       "        [-3.0643718, -4.4161625, -1.4264389, ..., -3.2843409,\n",
       "         -5.149649 , -3.648271 ],\n",
       "        [-2.9612057, -4.542797 , -1.3183792, ..., -3.4081   ,\n",
       "         -5.2223196, -4.6545935]],\n",
       "\n",
       "       ...,\n",
       "\n",
       "       [[-3.5274203, -5.216957 , -2.2859595, ..., -2.758329 ,\n",
       "         -4.5663447, -3.2371979],\n",
       "        [-3.1655025, -5.1074953, -2.061622 , ..., -3.2792788,\n",
       "         -5.0626674, -3.3082087],\n",
       "        [-3.1800623, -5.0756316, -2.0961082, ..., -3.3811653,\n",
       "         -5.0722046, -3.2731156],\n",
       "        ...,\n",
       "        [-3.1595964, -4.998731 , -1.7145877, ..., -3.3797736,\n",
       "         -4.9871   , -3.835597 ],\n",
       "        [-3.1739044, -5.001626 , -1.7069366, ..., -3.3545563,\n",
       "         -5.030181 , -3.8332937],\n",
       "        [-3.063599 , -5.086895 , -1.6089185, ..., -3.4728708,\n",
       "         -5.0845866, -4.806019 ]],\n",
       "\n",
       "       [[-3.3061464, -4.4549813, -1.9733342, ..., -3.1208453,\n",
       "         -4.6657233, -2.9435334],\n",
       "        [-3.0441523, -4.387442 , -1.8778075, ..., -3.266974 ,\n",
       "         -5.115092 , -3.7850952],\n",
       "        [-3.789393 , -3.9810512, -1.3404648, ..., -3.8060138,\n",
       "         -4.650655 , -4.413597 ],\n",
       "        ...,\n",
       "        [-2.964943 , -4.332561 , -1.4596018, ..., -3.6407447,\n",
       "         -5.143196 , -3.6339617],\n",
       "        [-2.965426 , -4.335264 , -1.4328939, ..., -3.6224256,\n",
       "         -5.1887665, -3.6331244],\n",
       "        [-2.8669426, -4.4596934, -1.3428067, ..., -3.7471704,\n",
       "         -5.276396 , -4.6592717]],\n",
       "\n",
       "       [[-3.6123576, -4.3280873, -2.1202853, ..., -2.7464025,\n",
       "         -4.9013357, -2.6846035],\n",
       "        [-3.0799727, -4.770178 , -1.7823856, ..., -2.8946414,\n",
       "         -5.398875 , -3.7698617],\n",
       "        [-3.4255223, -2.8986773, -1.9489136, ..., -2.9102693,\n",
       "         -4.8560076, -3.1822424],\n",
       "        ...,\n",
       "        [-3.2437415, -4.3030376, -1.4256713, ..., -3.359662 ,\n",
       "         -5.2265024, -3.5147116],\n",
       "        [-3.2402163, -4.308545 , -1.3887198, ..., -3.3435283,\n",
       "         -5.279748 , -3.5213518],\n",
       "        [-3.1405277, -4.4155855, -1.2839327, ..., -3.465002 ,\n",
       "         -5.3547087, -4.4711757]]], dtype=float32)"
      ]
     },
     "execution_count": 17,
     "metadata": {},
     "output_type": "execute_result"
    }
   ],
   "source": [
    "train_step(conformer_encoder, dataset[0])"
   ]
  },
  {
   "cell_type": "code",
   "execution_count": null,
   "id": "f7c9de9e",
   "metadata": {},
   "outputs": [],
   "source": [
    "for element in tqdm(iter_dataset):\n",
    "    train_step(conformer_encoder, element)"
   ]
  },
  {
   "cell_type": "code",
   "execution_count": null,
   "id": "cc7fffc5",
   "metadata": {},
   "outputs": [],
   "source": [
    "inputs.shape"
   ]
  },
  {
   "cell_type": "code",
   "execution_count": null,
   "id": "337e778e",
   "metadata": {},
   "outputs": [],
   "source": [
    "y = conformer_encoder(inputs, inputs_length, training=False)"
   ]
  },
  {
   "cell_type": "code",
   "execution_count": null,
   "id": "6cd70a6a",
   "metadata": {},
   "outputs": [],
   "source": [
    "nnx.display(conformer_encoder)"
   ]
  },
  {
   "cell_type": "code",
   "execution_count": null,
   "id": "384b09b9",
   "metadata": {},
   "outputs": [],
   "source": []
  },
  {
   "cell_type": "code",
   "execution_count": null,
   "id": "a8fa48d2",
   "metadata": {},
   "outputs": [],
   "source": []
  }
 ],
 "metadata": {
  "kernelspec": {
   "display_name": "default",
   "language": "python",
   "name": "python3"
  },
  "language_info": {
   "codemirror_mode": {
    "name": "ipython",
    "version": 3
   },
   "file_extension": ".py",
   "mimetype": "text/x-python",
   "name": "python",
   "nbconvert_exporter": "python",
   "pygments_lexer": "ipython3",
   "version": "3.12.11"
  }
 },
 "nbformat": 4,
 "nbformat_minor": 5
}
